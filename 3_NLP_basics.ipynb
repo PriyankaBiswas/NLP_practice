{
 "cells": [
  {
   "cell_type": "code",
   "execution_count": 1,
   "metadata": {},
   "outputs": [],
   "source": [
    "import spacy\n",
    "\n",
    "# preloaded English web small\n",
    "nlp = spacy.load('en_core_web_sm')"
   ]
  },
  {
   "cell_type": "code",
   "execution_count": 2,
   "metadata": {},
   "outputs": [
    {
     "name": "stdout",
     "output_type": "stream",
     "text": [
      "Apple apple \n",
      " 95 PROPN NNP nsubj \n",
      " Xxxxx True False\n",
      "is be \n",
      " 99 VERB VBZ aux \n",
      " xx True True\n",
      "looking look \n",
      " 99 VERB VBG ROOT \n",
      " xxxx True False\n",
      "at at \n",
      " 84 ADP IN prep \n",
      " xx True True\n",
      "buying buy \n",
      " 99 VERB VBG pcomp \n",
      " xxxx True False\n",
      "new new \n",
      " 83 ADJ JJ amod \n",
      " xxx True False\n",
      "U.S. u.s. \n",
      " 95 PROPN NNP compound \n",
      " X.X. False False\n",
      "startups startup \n",
      " 91 NOUN NNS dobj \n",
      " xxxx True False\n",
      "for for \n",
      " 84 ADP IN prep \n",
      " xxx True True\n",
      "many many \n",
      " 83 ADJ JJ amod \n",
      " xxxx True True\n",
      "billion billion \n",
      " 92 NUM CD nummod \n",
      " xxxx True False\n",
      "dollars dollar \n",
      " 91 NOUN NNS pobj \n",
      " xxxx True False\n",
      "$ $ \n",
      " 98 SYM $ nmod \n",
      " $ False False\n",
      "5 5 \n",
      " 92 NUM CD npadvmod \n",
      " d False False\n"
     ]
    },
    {
     "data": {
      "text/plain": [
       "'PROPN'"
      ]
     },
     "execution_count": 2,
     "metadata": {},
     "output_type": "execute_result"
    }
   ],
   "source": [
    "doc = nlp(u'Apple is looking at buying new U.S. startups for many billion dollars $5')\n",
    "\n",
    "# u' means uncode strings \n",
    "# parse the strings into tokens\n",
    "\n",
    "for token in doc: \n",
    "    print(token.text, token.lemma_, \n",
    "          '\\n', token.pos, token.pos_,token.tag_,  token.dep_,\n",
    "         '\\n', token.shape_, token.is_alpha, token.is_stop)\n",
    "\n",
    "# print only the pos\n",
    "doc[0].pos_\n"
   ]
  },
  {
   "cell_type": "code",
   "execution_count": 3,
   "metadata": {},
   "outputs": [
    {
     "data": {
      "text/plain": [
       "[('tagger', <spacy.pipeline.Tagger at 0x10e92a2e8>),\n",
       " ('parser', <spacy.pipeline.DependencyParser at 0x10e956fc0>),\n",
       " ('ner', <spacy.pipeline.EntityRecognizer at 0x10ea360a0>)]"
      ]
     },
     "execution_count": 3,
     "metadata": {},
     "output_type": "execute_result"
    }
   ],
   "source": [
    "# pipeline object consists of tagger, parser and ner\n",
    "\n",
    "nlp.pipeline"
   ]
  },
  {
   "cell_type": "code",
   "execution_count": 10,
   "metadata": {},
   "outputs": [],
   "source": [
    "doc1 = nlp(u'This is the first sentence. This is another sentence. This is the last sentence.')"
   ]
  },
  {
   "cell_type": "code",
   "execution_count": 11,
   "metadata": {},
   "outputs": [
    {
     "name": "stdout",
     "output_type": "stream",
     "text": [
      "This is the first sentence.\n",
      "This is another sentence.\n",
      "This is the last sentence.\n"
     ]
    }
   ],
   "source": [
    "for sentence in doc1.sents:\n",
    "    print(sentence)\n"
   ]
  },
  {
   "cell_type": "code",
   "execution_count": 12,
   "metadata": {},
   "outputs": [
    {
     "data": {
      "text/plain": [
       "True"
      ]
     },
     "execution_count": 12,
     "metadata": {},
     "output_type": "execute_result"
    }
   ],
   "source": [
    "#doc4.is_tagged #is_parsed\n",
    "\n",
    "doc1[6].is_sent_start"
   ]
  },
  {
   "cell_type": "code",
   "execution_count": 13,
   "metadata": {},
   "outputs": [],
   "source": [
    "# Tokenization \n",
    "\n",
    "mystring = \"Yay! We're going to Disneyland L.A.!! \\\n",
    "This is an awesome opportunity. Email me as today rpoe!poe@gmail.com! Or find me on www.rpoe.com.\\\n",
    "Tickets cost $300 per head or $2 thousand per family.\""
   ]
  },
  {
   "cell_type": "code",
   "execution_count": 14,
   "metadata": {},
   "outputs": [
    {
     "data": {
      "text/plain": [
       "\"Yay! We're going to Disneyland L.A.!! This is an awesome opportunity. Email me as today rpoe!poe@gmail.com! Or find me on www.rpoe.com.Tickets cost $300 per head or $2 thousand per family.\""
      ]
     },
     "execution_count": 14,
     "metadata": {},
     "output_type": "execute_result"
    }
   ],
   "source": [
    "mystring"
   ]
  },
  {
   "cell_type": "code",
   "execution_count": 15,
   "metadata": {},
   "outputs": [],
   "source": [
    "doc2 = nlp(mystring)"
   ]
  },
  {
   "cell_type": "code",
   "execution_count": 16,
   "metadata": {},
   "outputs": [
    {
     "name": "stdout",
     "output_type": "stream",
     "text": [
      "Yay\n",
      "!\n",
      "We\n",
      "'re\n",
      "going\n",
      "to\n",
      "Disneyland\n",
      "L.A.\n",
      "!\n",
      "!\n",
      "This\n",
      "is\n",
      "an\n",
      "awesome\n",
      "opportunity\n",
      ".\n",
      "Email\n",
      "me\n",
      "as\n",
      "today\n",
      "rpoe!poe@gmail.com\n",
      "!\n",
      "Or\n",
      "find\n",
      "me\n",
      "on\n",
      "www.rpoe.com.Tickets\n",
      "cost\n",
      "$\n",
      "300\n",
      "per\n",
      "head\n",
      "or\n",
      "$\n",
      "2\n",
      "thousand\n",
      "per\n",
      "family\n",
      ".\n"
     ]
    }
   ],
   "source": [
    "for token in doc2:\n",
    "    print(token)"
   ]
  },
  {
   "cell_type": "code",
   "execution_count": 19,
   "metadata": {},
   "outputs": [
    {
     "data": {
      "text/plain": [
       "57852"
      ]
     },
     "execution_count": 19,
     "metadata": {},
     "output_type": "execute_result"
    }
   ],
   "source": [
    "len(doc1.vocab) #size of the tokens in en_core_web_sm and not the variable"
   ]
  },
  {
   "cell_type": "code",
   "execution_count": 20,
   "metadata": {},
   "outputs": [
    {
     "name": "stdout",
     "output_type": "stream",
     "text": [
      "Yay | ! | We | 're | going | to | Disneyland | L.A. | ! | ! | This | is | an | awesome | opportunity | . | Email | me | as | today | rpoe!poe@gmail.com | ! | Or | find | me | on | www.rpoe.com.Tickets | cost | $ | 300 | per | head | or | $ | 2 | thousand | per | family | . | "
     ]
    }
   ],
   "source": [
    "# Named entities \n",
    "\n",
    "for token in doc2:\n",
    "    print(token.text, end=' | ')"
   ]
  },
  {
   "cell_type": "code",
   "execution_count": 21,
   "metadata": {},
   "outputs": [
    {
     "name": "stdout",
     "output_type": "stream",
     "text": [
      "Disneyland L.A.\n",
      "ORG   \\   Companies, agencies, institutions, etc.\n",
      "today\n",
      "DATE   \\   Absolute or relative dates or periods\n",
      "rpoe!poe@gmail.com\n",
      "NORP   \\   Nationalities or religious or political groups\n",
      "www.rpoe.com.Tickets\n",
      "ORG   \\   Companies, agencies, institutions, etc.\n",
      "300\n",
      "MONEY   \\   Monetary values, including unit\n",
      "$2 thousand\n",
      "MONEY   \\   Monetary values, including unit\n"
     ]
    }
   ],
   "source": [
    "for entity in doc2.ents:\n",
    "    print(entity)\n",
    "    print(entity.label_, '  \\  ', str(spacy.explain(entity.label_)))\n"
   ]
  },
  {
   "cell_type": "code",
   "execution_count": 22,
   "metadata": {},
   "outputs": [
    {
     "name": "stdout",
     "output_type": "stream",
     "text": [
      "We\n",
      "Disneyland L.A.\n",
      "an awesome opportunity\n",
      "me\n",
      "me\n",
      "www.rpoe.com.Tickets\n",
      "head\n",
      "family\n"
     ]
    }
   ],
   "source": [
    "for chunk in doc2.noun_chunks:\n",
    "    print(chunk)"
   ]
  },
  {
   "cell_type": "code",
   "execution_count": 23,
   "metadata": {},
   "outputs": [],
   "source": [
    "## Displaying chunks\n",
    "\n",
    "from spacy import displacy"
   ]
  },
  {
   "cell_type": "code",
   "execution_count": 28,
   "metadata": {},
   "outputs": [
    {
     "data": {
      "text/html": [
       "<svg xmlns=\"http://www.w3.org/2000/svg\" xmlns:xlink=\"http://www.w3.org/1999/xlink\" id=\"546-0\" class=\"displacy\" width=\"5000\" height=\"512.0\" style=\"max-width: none; height: 512.0px; color: #000000; background: #ffffff; font-family: Arial\">\n",
       "<text class=\"displacy-token\" fill=\"currentColor\" text-anchor=\"middle\" y=\"422.0\">\n",
       "    <tspan class=\"displacy-word\" fill=\"currentColor\" x=\"50\">Yay!</tspan>\n",
       "    <tspan class=\"displacy-tag\" dy=\"2em\" fill=\"currentColor\" x=\"50\">INTJ</tspan>\n",
       "</text>\n",
       "\n",
       "<text class=\"displacy-token\" fill=\"currentColor\" text-anchor=\"middle\" y=\"422.0\">\n",
       "    <tspan class=\"displacy-word\" fill=\"currentColor\" x=\"200\">We</tspan>\n",
       "    <tspan class=\"displacy-tag\" dy=\"2em\" fill=\"currentColor\" x=\"200\">PRON</tspan>\n",
       "</text>\n",
       "\n",
       "<text class=\"displacy-token\" fill=\"currentColor\" text-anchor=\"middle\" y=\"422.0\">\n",
       "    <tspan class=\"displacy-word\" fill=\"currentColor\" x=\"350\">'re</tspan>\n",
       "    <tspan class=\"displacy-tag\" dy=\"2em\" fill=\"currentColor\" x=\"350\">VERB</tspan>\n",
       "</text>\n",
       "\n",
       "<text class=\"displacy-token\" fill=\"currentColor\" text-anchor=\"middle\" y=\"422.0\">\n",
       "    <tspan class=\"displacy-word\" fill=\"currentColor\" x=\"500\">going</tspan>\n",
       "    <tspan class=\"displacy-tag\" dy=\"2em\" fill=\"currentColor\" x=\"500\">VERB</tspan>\n",
       "</text>\n",
       "\n",
       "<text class=\"displacy-token\" fill=\"currentColor\" text-anchor=\"middle\" y=\"422.0\">\n",
       "    <tspan class=\"displacy-word\" fill=\"currentColor\" x=\"650\">to</tspan>\n",
       "    <tspan class=\"displacy-tag\" dy=\"2em\" fill=\"currentColor\" x=\"650\">ADP</tspan>\n",
       "</text>\n",
       "\n",
       "<text class=\"displacy-token\" fill=\"currentColor\" text-anchor=\"middle\" y=\"422.0\">\n",
       "    <tspan class=\"displacy-word\" fill=\"currentColor\" x=\"800\">Disneyland</tspan>\n",
       "    <tspan class=\"displacy-tag\" dy=\"2em\" fill=\"currentColor\" x=\"800\">PROPN</tspan>\n",
       "</text>\n",
       "\n",
       "<text class=\"displacy-token\" fill=\"currentColor\" text-anchor=\"middle\" y=\"422.0\">\n",
       "    <tspan class=\"displacy-word\" fill=\"currentColor\" x=\"950\">L.A.!!</tspan>\n",
       "    <tspan class=\"displacy-tag\" dy=\"2em\" fill=\"currentColor\" x=\"950\">PROPN</tspan>\n",
       "</text>\n",
       "\n",
       "<text class=\"displacy-token\" fill=\"currentColor\" text-anchor=\"middle\" y=\"422.0\">\n",
       "    <tspan class=\"displacy-word\" fill=\"currentColor\" x=\"1100\">This</tspan>\n",
       "    <tspan class=\"displacy-tag\" dy=\"2em\" fill=\"currentColor\" x=\"1100\">DET</tspan>\n",
       "</text>\n",
       "\n",
       "<text class=\"displacy-token\" fill=\"currentColor\" text-anchor=\"middle\" y=\"422.0\">\n",
       "    <tspan class=\"displacy-word\" fill=\"currentColor\" x=\"1250\">is</tspan>\n",
       "    <tspan class=\"displacy-tag\" dy=\"2em\" fill=\"currentColor\" x=\"1250\">VERB</tspan>\n",
       "</text>\n",
       "\n",
       "<text class=\"displacy-token\" fill=\"currentColor\" text-anchor=\"middle\" y=\"422.0\">\n",
       "    <tspan class=\"displacy-word\" fill=\"currentColor\" x=\"1400\">an</tspan>\n",
       "    <tspan class=\"displacy-tag\" dy=\"2em\" fill=\"currentColor\" x=\"1400\">DET</tspan>\n",
       "</text>\n",
       "\n",
       "<text class=\"displacy-token\" fill=\"currentColor\" text-anchor=\"middle\" y=\"422.0\">\n",
       "    <tspan class=\"displacy-word\" fill=\"currentColor\" x=\"1550\">awesome</tspan>\n",
       "    <tspan class=\"displacy-tag\" dy=\"2em\" fill=\"currentColor\" x=\"1550\">ADJ</tspan>\n",
       "</text>\n",
       "\n",
       "<text class=\"displacy-token\" fill=\"currentColor\" text-anchor=\"middle\" y=\"422.0\">\n",
       "    <tspan class=\"displacy-word\" fill=\"currentColor\" x=\"1700\">opportunity.</tspan>\n",
       "    <tspan class=\"displacy-tag\" dy=\"2em\" fill=\"currentColor\" x=\"1700\">NOUN</tspan>\n",
       "</text>\n",
       "\n",
       "<text class=\"displacy-token\" fill=\"currentColor\" text-anchor=\"middle\" y=\"422.0\">\n",
       "    <tspan class=\"displacy-word\" fill=\"currentColor\" x=\"1850\">Email</tspan>\n",
       "    <tspan class=\"displacy-tag\" dy=\"2em\" fill=\"currentColor\" x=\"1850\">VERB</tspan>\n",
       "</text>\n",
       "\n",
       "<text class=\"displacy-token\" fill=\"currentColor\" text-anchor=\"middle\" y=\"422.0\">\n",
       "    <tspan class=\"displacy-word\" fill=\"currentColor\" x=\"2000\">me</tspan>\n",
       "    <tspan class=\"displacy-tag\" dy=\"2em\" fill=\"currentColor\" x=\"2000\">PRON</tspan>\n",
       "</text>\n",
       "\n",
       "<text class=\"displacy-token\" fill=\"currentColor\" text-anchor=\"middle\" y=\"422.0\">\n",
       "    <tspan class=\"displacy-word\" fill=\"currentColor\" x=\"2150\">as</tspan>\n",
       "    <tspan class=\"displacy-tag\" dy=\"2em\" fill=\"currentColor\" x=\"2150\">ADP</tspan>\n",
       "</text>\n",
       "\n",
       "<text class=\"displacy-token\" fill=\"currentColor\" text-anchor=\"middle\" y=\"422.0\">\n",
       "    <tspan class=\"displacy-word\" fill=\"currentColor\" x=\"2300\">today</tspan>\n",
       "    <tspan class=\"displacy-tag\" dy=\"2em\" fill=\"currentColor\" x=\"2300\">NOUN</tspan>\n",
       "</text>\n",
       "\n",
       "<text class=\"displacy-token\" fill=\"currentColor\" text-anchor=\"middle\" y=\"422.0\">\n",
       "    <tspan class=\"displacy-word\" fill=\"currentColor\" x=\"2450\">rpoe!poe@gmail.com!</tspan>\n",
       "    <tspan class=\"displacy-tag\" dy=\"2em\" fill=\"currentColor\" x=\"2450\">X</tspan>\n",
       "</text>\n",
       "\n",
       "<text class=\"displacy-token\" fill=\"currentColor\" text-anchor=\"middle\" y=\"422.0\">\n",
       "    <tspan class=\"displacy-word\" fill=\"currentColor\" x=\"2600\">Or</tspan>\n",
       "    <tspan class=\"displacy-tag\" dy=\"2em\" fill=\"currentColor\" x=\"2600\">CCONJ</tspan>\n",
       "</text>\n",
       "\n",
       "<text class=\"displacy-token\" fill=\"currentColor\" text-anchor=\"middle\" y=\"422.0\">\n",
       "    <tspan class=\"displacy-word\" fill=\"currentColor\" x=\"2750\">find</tspan>\n",
       "    <tspan class=\"displacy-tag\" dy=\"2em\" fill=\"currentColor\" x=\"2750\">VERB</tspan>\n",
       "</text>\n",
       "\n",
       "<text class=\"displacy-token\" fill=\"currentColor\" text-anchor=\"middle\" y=\"422.0\">\n",
       "    <tspan class=\"displacy-word\" fill=\"currentColor\" x=\"2900\">me</tspan>\n",
       "    <tspan class=\"displacy-tag\" dy=\"2em\" fill=\"currentColor\" x=\"2900\">PRON</tspan>\n",
       "</text>\n",
       "\n",
       "<text class=\"displacy-token\" fill=\"currentColor\" text-anchor=\"middle\" y=\"422.0\">\n",
       "    <tspan class=\"displacy-word\" fill=\"currentColor\" x=\"3050\">on</tspan>\n",
       "    <tspan class=\"displacy-tag\" dy=\"2em\" fill=\"currentColor\" x=\"3050\">ADP</tspan>\n",
       "</text>\n",
       "\n",
       "<text class=\"displacy-token\" fill=\"currentColor\" text-anchor=\"middle\" y=\"422.0\">\n",
       "    <tspan class=\"displacy-word\" fill=\"currentColor\" x=\"3200\">www.rpoe.com.Tickets</tspan>\n",
       "    <tspan class=\"displacy-tag\" dy=\"2em\" fill=\"currentColor\" x=\"3200\">NOUN</tspan>\n",
       "</text>\n",
       "\n",
       "<text class=\"displacy-token\" fill=\"currentColor\" text-anchor=\"middle\" y=\"422.0\">\n",
       "    <tspan class=\"displacy-word\" fill=\"currentColor\" x=\"3350\">cost</tspan>\n",
       "    <tspan class=\"displacy-tag\" dy=\"2em\" fill=\"currentColor\" x=\"3350\">VERB</tspan>\n",
       "</text>\n",
       "\n",
       "<text class=\"displacy-token\" fill=\"currentColor\" text-anchor=\"middle\" y=\"422.0\">\n",
       "    <tspan class=\"displacy-word\" fill=\"currentColor\" x=\"3500\">$</tspan>\n",
       "    <tspan class=\"displacy-tag\" dy=\"2em\" fill=\"currentColor\" x=\"3500\">SYM</tspan>\n",
       "</text>\n",
       "\n",
       "<text class=\"displacy-token\" fill=\"currentColor\" text-anchor=\"middle\" y=\"422.0\">\n",
       "    <tspan class=\"displacy-word\" fill=\"currentColor\" x=\"3650\">300</tspan>\n",
       "    <tspan class=\"displacy-tag\" dy=\"2em\" fill=\"currentColor\" x=\"3650\">NUM</tspan>\n",
       "</text>\n",
       "\n",
       "<text class=\"displacy-token\" fill=\"currentColor\" text-anchor=\"middle\" y=\"422.0\">\n",
       "    <tspan class=\"displacy-word\" fill=\"currentColor\" x=\"3800\">per</tspan>\n",
       "    <tspan class=\"displacy-tag\" dy=\"2em\" fill=\"currentColor\" x=\"3800\">ADP</tspan>\n",
       "</text>\n",
       "\n",
       "<text class=\"displacy-token\" fill=\"currentColor\" text-anchor=\"middle\" y=\"422.0\">\n",
       "    <tspan class=\"displacy-word\" fill=\"currentColor\" x=\"3950\">head</tspan>\n",
       "    <tspan class=\"displacy-tag\" dy=\"2em\" fill=\"currentColor\" x=\"3950\">NOUN</tspan>\n",
       "</text>\n",
       "\n",
       "<text class=\"displacy-token\" fill=\"currentColor\" text-anchor=\"middle\" y=\"422.0\">\n",
       "    <tspan class=\"displacy-word\" fill=\"currentColor\" x=\"4100\">or</tspan>\n",
       "    <tspan class=\"displacy-tag\" dy=\"2em\" fill=\"currentColor\" x=\"4100\">CCONJ</tspan>\n",
       "</text>\n",
       "\n",
       "<text class=\"displacy-token\" fill=\"currentColor\" text-anchor=\"middle\" y=\"422.0\">\n",
       "    <tspan class=\"displacy-word\" fill=\"currentColor\" x=\"4250\">$</tspan>\n",
       "    <tspan class=\"displacy-tag\" dy=\"2em\" fill=\"currentColor\" x=\"4250\">SYM</tspan>\n",
       "</text>\n",
       "\n",
       "<text class=\"displacy-token\" fill=\"currentColor\" text-anchor=\"middle\" y=\"422.0\">\n",
       "    <tspan class=\"displacy-word\" fill=\"currentColor\" x=\"4400\">2</tspan>\n",
       "    <tspan class=\"displacy-tag\" dy=\"2em\" fill=\"currentColor\" x=\"4400\">NUM</tspan>\n",
       "</text>\n",
       "\n",
       "<text class=\"displacy-token\" fill=\"currentColor\" text-anchor=\"middle\" y=\"422.0\">\n",
       "    <tspan class=\"displacy-word\" fill=\"currentColor\" x=\"4550\">thousand</tspan>\n",
       "    <tspan class=\"displacy-tag\" dy=\"2em\" fill=\"currentColor\" x=\"4550\">NUM</tspan>\n",
       "</text>\n",
       "\n",
       "<text class=\"displacy-token\" fill=\"currentColor\" text-anchor=\"middle\" y=\"422.0\">\n",
       "    <tspan class=\"displacy-word\" fill=\"currentColor\" x=\"4700\">per</tspan>\n",
       "    <tspan class=\"displacy-tag\" dy=\"2em\" fill=\"currentColor\" x=\"4700\">ADP</tspan>\n",
       "</text>\n",
       "\n",
       "<text class=\"displacy-token\" fill=\"currentColor\" text-anchor=\"middle\" y=\"422.0\">\n",
       "    <tspan class=\"displacy-word\" fill=\"currentColor\" x=\"4850\">family.</tspan>\n",
       "    <tspan class=\"displacy-tag\" dy=\"2em\" fill=\"currentColor\" x=\"4850\">NOUN</tspan>\n",
       "</text>\n",
       "\n",
       "<g class=\"displacy-arrow\">\n",
       "    <path class=\"displacy-arc\" id=\"arrow-546-0-0\" stroke-width=\"2px\" d=\"M220,377.0 C220,227.0 485.0,227.0 485.0,377.0\" fill=\"none\" stroke=\"currentColor\"/>\n",
       "    <text dy=\"1.25em\" style=\"font-size: 0.8em; letter-spacing: 1px\">\n",
       "        <textPath xlink:href=\"#arrow-546-0-0\" class=\"displacy-label\" startOffset=\"50%\" fill=\"currentColor\" text-anchor=\"middle\">nsubj</textPath>\n",
       "    </text>\n",
       "    <path class=\"displacy-arrowhead\" d=\"M220,379.0 L212,367.0 228,367.0\" fill=\"currentColor\"/>\n",
       "</g>\n",
       "\n",
       "<g class=\"displacy-arrow\">\n",
       "    <path class=\"displacy-arc\" id=\"arrow-546-0-1\" stroke-width=\"2px\" d=\"M370,377.0 C370,302.0 480.0,302.0 480.0,377.0\" fill=\"none\" stroke=\"currentColor\"/>\n",
       "    <text dy=\"1.25em\" style=\"font-size: 0.8em; letter-spacing: 1px\">\n",
       "        <textPath xlink:href=\"#arrow-546-0-1\" class=\"displacy-label\" startOffset=\"50%\" fill=\"currentColor\" text-anchor=\"middle\">aux</textPath>\n",
       "    </text>\n",
       "    <path class=\"displacy-arrowhead\" d=\"M370,379.0 L362,367.0 378,367.0\" fill=\"currentColor\"/>\n",
       "</g>\n",
       "\n",
       "<g class=\"displacy-arrow\">\n",
       "    <path class=\"displacy-arc\" id=\"arrow-546-0-2\" stroke-width=\"2px\" d=\"M520,377.0 C520,302.0 630.0,302.0 630.0,377.0\" fill=\"none\" stroke=\"currentColor\"/>\n",
       "    <text dy=\"1.25em\" style=\"font-size: 0.8em; letter-spacing: 1px\">\n",
       "        <textPath xlink:href=\"#arrow-546-0-2\" class=\"displacy-label\" startOffset=\"50%\" fill=\"currentColor\" text-anchor=\"middle\">prep</textPath>\n",
       "    </text>\n",
       "    <path class=\"displacy-arrowhead\" d=\"M630.0,379.0 L638.0,367.0 622.0,367.0\" fill=\"currentColor\"/>\n",
       "</g>\n",
       "\n",
       "<g class=\"displacy-arrow\">\n",
       "    <path class=\"displacy-arc\" id=\"arrow-546-0-3\" stroke-width=\"2px\" d=\"M820,377.0 C820,302.0 930.0,302.0 930.0,377.0\" fill=\"none\" stroke=\"currentColor\"/>\n",
       "    <text dy=\"1.25em\" style=\"font-size: 0.8em; letter-spacing: 1px\">\n",
       "        <textPath xlink:href=\"#arrow-546-0-3\" class=\"displacy-label\" startOffset=\"50%\" fill=\"currentColor\" text-anchor=\"middle\">compound</textPath>\n",
       "    </text>\n",
       "    <path class=\"displacy-arrowhead\" d=\"M820,379.0 L812,367.0 828,367.0\" fill=\"currentColor\"/>\n",
       "</g>\n",
       "\n",
       "<g class=\"displacy-arrow\">\n",
       "    <path class=\"displacy-arc\" id=\"arrow-546-0-4\" stroke-width=\"2px\" d=\"M670,377.0 C670,227.0 935.0,227.0 935.0,377.0\" fill=\"none\" stroke=\"currentColor\"/>\n",
       "    <text dy=\"1.25em\" style=\"font-size: 0.8em; letter-spacing: 1px\">\n",
       "        <textPath xlink:href=\"#arrow-546-0-4\" class=\"displacy-label\" startOffset=\"50%\" fill=\"currentColor\" text-anchor=\"middle\">pobj</textPath>\n",
       "    </text>\n",
       "    <path class=\"displacy-arrowhead\" d=\"M935.0,379.0 L943.0,367.0 927.0,367.0\" fill=\"currentColor\"/>\n",
       "</g>\n",
       "\n",
       "<g class=\"displacy-arrow\">\n",
       "    <path class=\"displacy-arc\" id=\"arrow-546-0-5\" stroke-width=\"2px\" d=\"M1120,377.0 C1120,302.0 1230.0,302.0 1230.0,377.0\" fill=\"none\" stroke=\"currentColor\"/>\n",
       "    <text dy=\"1.25em\" style=\"font-size: 0.8em; letter-spacing: 1px\">\n",
       "        <textPath xlink:href=\"#arrow-546-0-5\" class=\"displacy-label\" startOffset=\"50%\" fill=\"currentColor\" text-anchor=\"middle\">nsubj</textPath>\n",
       "    </text>\n",
       "    <path class=\"displacy-arrowhead\" d=\"M1120,379.0 L1112,367.0 1128,367.0\" fill=\"currentColor\"/>\n",
       "</g>\n",
       "\n",
       "<g class=\"displacy-arrow\">\n",
       "    <path class=\"displacy-arc\" id=\"arrow-546-0-6\" stroke-width=\"2px\" d=\"M1420,377.0 C1420,227.0 1685.0,227.0 1685.0,377.0\" fill=\"none\" stroke=\"currentColor\"/>\n",
       "    <text dy=\"1.25em\" style=\"font-size: 0.8em; letter-spacing: 1px\">\n",
       "        <textPath xlink:href=\"#arrow-546-0-6\" class=\"displacy-label\" startOffset=\"50%\" fill=\"currentColor\" text-anchor=\"middle\">det</textPath>\n",
       "    </text>\n",
       "    <path class=\"displacy-arrowhead\" d=\"M1420,379.0 L1412,367.0 1428,367.0\" fill=\"currentColor\"/>\n",
       "</g>\n",
       "\n",
       "<g class=\"displacy-arrow\">\n",
       "    <path class=\"displacy-arc\" id=\"arrow-546-0-7\" stroke-width=\"2px\" d=\"M1570,377.0 C1570,302.0 1680.0,302.0 1680.0,377.0\" fill=\"none\" stroke=\"currentColor\"/>\n",
       "    <text dy=\"1.25em\" style=\"font-size: 0.8em; letter-spacing: 1px\">\n",
       "        <textPath xlink:href=\"#arrow-546-0-7\" class=\"displacy-label\" startOffset=\"50%\" fill=\"currentColor\" text-anchor=\"middle\">amod</textPath>\n",
       "    </text>\n",
       "    <path class=\"displacy-arrowhead\" d=\"M1570,379.0 L1562,367.0 1578,367.0\" fill=\"currentColor\"/>\n",
       "</g>\n",
       "\n",
       "<g class=\"displacy-arrow\">\n",
       "    <path class=\"displacy-arc\" id=\"arrow-546-0-8\" stroke-width=\"2px\" d=\"M1270,377.0 C1270,152.0 1690.0,152.0 1690.0,377.0\" fill=\"none\" stroke=\"currentColor\"/>\n",
       "    <text dy=\"1.25em\" style=\"font-size: 0.8em; letter-spacing: 1px\">\n",
       "        <textPath xlink:href=\"#arrow-546-0-8\" class=\"displacy-label\" startOffset=\"50%\" fill=\"currentColor\" text-anchor=\"middle\">attr</textPath>\n",
       "    </text>\n",
       "    <path class=\"displacy-arrowhead\" d=\"M1690.0,379.0 L1698.0,367.0 1682.0,367.0\" fill=\"currentColor\"/>\n",
       "</g>\n",
       "\n",
       "<g class=\"displacy-arrow\">\n",
       "    <path class=\"displacy-arc\" id=\"arrow-546-0-9\" stroke-width=\"2px\" d=\"M1870,377.0 C1870,302.0 1980.0,302.0 1980.0,377.0\" fill=\"none\" stroke=\"currentColor\"/>\n",
       "    <text dy=\"1.25em\" style=\"font-size: 0.8em; letter-spacing: 1px\">\n",
       "        <textPath xlink:href=\"#arrow-546-0-9\" class=\"displacy-label\" startOffset=\"50%\" fill=\"currentColor\" text-anchor=\"middle\">dobj</textPath>\n",
       "    </text>\n",
       "    <path class=\"displacy-arrowhead\" d=\"M1980.0,379.0 L1988.0,367.0 1972.0,367.0\" fill=\"currentColor\"/>\n",
       "</g>\n",
       "\n",
       "<g class=\"displacy-arrow\">\n",
       "    <path class=\"displacy-arc\" id=\"arrow-546-0-10\" stroke-width=\"2px\" d=\"M1870,377.0 C1870,227.0 2135.0,227.0 2135.0,377.0\" fill=\"none\" stroke=\"currentColor\"/>\n",
       "    <text dy=\"1.25em\" style=\"font-size: 0.8em; letter-spacing: 1px\">\n",
       "        <textPath xlink:href=\"#arrow-546-0-10\" class=\"displacy-label\" startOffset=\"50%\" fill=\"currentColor\" text-anchor=\"middle\">prep</textPath>\n",
       "    </text>\n",
       "    <path class=\"displacy-arrowhead\" d=\"M2135.0,379.0 L2143.0,367.0 2127.0,367.0\" fill=\"currentColor\"/>\n",
       "</g>\n",
       "\n",
       "<g class=\"displacy-arrow\">\n",
       "    <path class=\"displacy-arc\" id=\"arrow-546-0-11\" stroke-width=\"2px\" d=\"M2320,377.0 C2320,302.0 2430.0,302.0 2430.0,377.0\" fill=\"none\" stroke=\"currentColor\"/>\n",
       "    <text dy=\"1.25em\" style=\"font-size: 0.8em; letter-spacing: 1px\">\n",
       "        <textPath xlink:href=\"#arrow-546-0-11\" class=\"displacy-label\" startOffset=\"50%\" fill=\"currentColor\" text-anchor=\"middle\">compound</textPath>\n",
       "    </text>\n",
       "    <path class=\"displacy-arrowhead\" d=\"M2320,379.0 L2312,367.0 2328,367.0\" fill=\"currentColor\"/>\n",
       "</g>\n",
       "\n",
       "<g class=\"displacy-arrow\">\n",
       "    <path class=\"displacy-arc\" id=\"arrow-546-0-12\" stroke-width=\"2px\" d=\"M2170,377.0 C2170,227.0 2435.0,227.0 2435.0,377.0\" fill=\"none\" stroke=\"currentColor\"/>\n",
       "    <text dy=\"1.25em\" style=\"font-size: 0.8em; letter-spacing: 1px\">\n",
       "        <textPath xlink:href=\"#arrow-546-0-12\" class=\"displacy-label\" startOffset=\"50%\" fill=\"currentColor\" text-anchor=\"middle\">pobj</textPath>\n",
       "    </text>\n",
       "    <path class=\"displacy-arrowhead\" d=\"M2435.0,379.0 L2443.0,367.0 2427.0,367.0\" fill=\"currentColor\"/>\n",
       "</g>\n",
       "\n",
       "<g class=\"displacy-arrow\">\n",
       "    <path class=\"displacy-arc\" id=\"arrow-546-0-13\" stroke-width=\"2px\" d=\"M2620,377.0 C2620,302.0 2730.0,302.0 2730.0,377.0\" fill=\"none\" stroke=\"currentColor\"/>\n",
       "    <text dy=\"1.25em\" style=\"font-size: 0.8em; letter-spacing: 1px\">\n",
       "        <textPath xlink:href=\"#arrow-546-0-13\" class=\"displacy-label\" startOffset=\"50%\" fill=\"currentColor\" text-anchor=\"middle\">cc</textPath>\n",
       "    </text>\n",
       "    <path class=\"displacy-arrowhead\" d=\"M2620,379.0 L2612,367.0 2628,367.0\" fill=\"currentColor\"/>\n",
       "</g>\n",
       "\n",
       "<g class=\"displacy-arrow\">\n",
       "    <path class=\"displacy-arc\" id=\"arrow-546-0-14\" stroke-width=\"2px\" d=\"M2770,377.0 C2770,302.0 2880.0,302.0 2880.0,377.0\" fill=\"none\" stroke=\"currentColor\"/>\n",
       "    <text dy=\"1.25em\" style=\"font-size: 0.8em; letter-spacing: 1px\">\n",
       "        <textPath xlink:href=\"#arrow-546-0-14\" class=\"displacy-label\" startOffset=\"50%\" fill=\"currentColor\" text-anchor=\"middle\">dobj</textPath>\n",
       "    </text>\n",
       "    <path class=\"displacy-arrowhead\" d=\"M2880.0,379.0 L2888.0,367.0 2872.0,367.0\" fill=\"currentColor\"/>\n",
       "</g>\n",
       "\n",
       "<g class=\"displacy-arrow\">\n",
       "    <path class=\"displacy-arc\" id=\"arrow-546-0-15\" stroke-width=\"2px\" d=\"M2770,377.0 C2770,227.0 3035.0,227.0 3035.0,377.0\" fill=\"none\" stroke=\"currentColor\"/>\n",
       "    <text dy=\"1.25em\" style=\"font-size: 0.8em; letter-spacing: 1px\">\n",
       "        <textPath xlink:href=\"#arrow-546-0-15\" class=\"displacy-label\" startOffset=\"50%\" fill=\"currentColor\" text-anchor=\"middle\">prep</textPath>\n",
       "    </text>\n",
       "    <path class=\"displacy-arrowhead\" d=\"M3035.0,379.0 L3043.0,367.0 3027.0,367.0\" fill=\"currentColor\"/>\n",
       "</g>\n",
       "\n",
       "<g class=\"displacy-arrow\">\n",
       "    <path class=\"displacy-arc\" id=\"arrow-546-0-16\" stroke-width=\"2px\" d=\"M3070,377.0 C3070,302.0 3180.0,302.0 3180.0,377.0\" fill=\"none\" stroke=\"currentColor\"/>\n",
       "    <text dy=\"1.25em\" style=\"font-size: 0.8em; letter-spacing: 1px\">\n",
       "        <textPath xlink:href=\"#arrow-546-0-16\" class=\"displacy-label\" startOffset=\"50%\" fill=\"currentColor\" text-anchor=\"middle\">pobj</textPath>\n",
       "    </text>\n",
       "    <path class=\"displacy-arrowhead\" d=\"M3180.0,379.0 L3188.0,367.0 3172.0,367.0\" fill=\"currentColor\"/>\n",
       "</g>\n",
       "\n",
       "<g class=\"displacy-arrow\">\n",
       "    <path class=\"displacy-arc\" id=\"arrow-546-0-17\" stroke-width=\"2px\" d=\"M2770,377.0 C2770,77.0 3345.0,77.0 3345.0,377.0\" fill=\"none\" stroke=\"currentColor\"/>\n",
       "    <text dy=\"1.25em\" style=\"font-size: 0.8em; letter-spacing: 1px\">\n",
       "        <textPath xlink:href=\"#arrow-546-0-17\" class=\"displacy-label\" startOffset=\"50%\" fill=\"currentColor\" text-anchor=\"middle\">ccomp</textPath>\n",
       "    </text>\n",
       "    <path class=\"displacy-arrowhead\" d=\"M3345.0,379.0 L3353.0,367.0 3337.0,367.0\" fill=\"currentColor\"/>\n",
       "</g>\n",
       "\n",
       "<g class=\"displacy-arrow\">\n",
       "    <path class=\"displacy-arc\" id=\"arrow-546-0-18\" stroke-width=\"2px\" d=\"M3520,377.0 C3520,302.0 3630.0,302.0 3630.0,377.0\" fill=\"none\" stroke=\"currentColor\"/>\n",
       "    <text dy=\"1.25em\" style=\"font-size: 0.8em; letter-spacing: 1px\">\n",
       "        <textPath xlink:href=\"#arrow-546-0-18\" class=\"displacy-label\" startOffset=\"50%\" fill=\"currentColor\" text-anchor=\"middle\">nmod</textPath>\n",
       "    </text>\n",
       "    <path class=\"displacy-arrowhead\" d=\"M3520,379.0 L3512,367.0 3528,367.0\" fill=\"currentColor\"/>\n",
       "</g>\n",
       "\n",
       "<g class=\"displacy-arrow\">\n",
       "    <path class=\"displacy-arc\" id=\"arrow-546-0-19\" stroke-width=\"2px\" d=\"M3370,377.0 C3370,227.0 3635.0,227.0 3635.0,377.0\" fill=\"none\" stroke=\"currentColor\"/>\n",
       "    <text dy=\"1.25em\" style=\"font-size: 0.8em; letter-spacing: 1px\">\n",
       "        <textPath xlink:href=\"#arrow-546-0-19\" class=\"displacy-label\" startOffset=\"50%\" fill=\"currentColor\" text-anchor=\"middle\">dobj</textPath>\n",
       "    </text>\n",
       "    <path class=\"displacy-arrowhead\" d=\"M3635.0,379.0 L3643.0,367.0 3627.0,367.0\" fill=\"currentColor\"/>\n",
       "</g>\n",
       "\n",
       "<g class=\"displacy-arrow\">\n",
       "    <path class=\"displacy-arc\" id=\"arrow-546-0-20\" stroke-width=\"2px\" d=\"M3670,377.0 C3670,302.0 3780.0,302.0 3780.0,377.0\" fill=\"none\" stroke=\"currentColor\"/>\n",
       "    <text dy=\"1.25em\" style=\"font-size: 0.8em; letter-spacing: 1px\">\n",
       "        <textPath xlink:href=\"#arrow-546-0-20\" class=\"displacy-label\" startOffset=\"50%\" fill=\"currentColor\" text-anchor=\"middle\">prep</textPath>\n",
       "    </text>\n",
       "    <path class=\"displacy-arrowhead\" d=\"M3780.0,379.0 L3788.0,367.0 3772.0,367.0\" fill=\"currentColor\"/>\n",
       "</g>\n",
       "\n",
       "<g class=\"displacy-arrow\">\n",
       "    <path class=\"displacy-arc\" id=\"arrow-546-0-21\" stroke-width=\"2px\" d=\"M3820,377.0 C3820,302.0 3930.0,302.0 3930.0,377.0\" fill=\"none\" stroke=\"currentColor\"/>\n",
       "    <text dy=\"1.25em\" style=\"font-size: 0.8em; letter-spacing: 1px\">\n",
       "        <textPath xlink:href=\"#arrow-546-0-21\" class=\"displacy-label\" startOffset=\"50%\" fill=\"currentColor\" text-anchor=\"middle\">pobj</textPath>\n",
       "    </text>\n",
       "    <path class=\"displacy-arrowhead\" d=\"M3930.0,379.0 L3938.0,367.0 3922.0,367.0\" fill=\"currentColor\"/>\n",
       "</g>\n",
       "\n",
       "<g class=\"displacy-arrow\">\n",
       "    <path class=\"displacy-arc\" id=\"arrow-546-0-22\" stroke-width=\"2px\" d=\"M3670,377.0 C3670,152.0 4090.0,152.0 4090.0,377.0\" fill=\"none\" stroke=\"currentColor\"/>\n",
       "    <text dy=\"1.25em\" style=\"font-size: 0.8em; letter-spacing: 1px\">\n",
       "        <textPath xlink:href=\"#arrow-546-0-22\" class=\"displacy-label\" startOffset=\"50%\" fill=\"currentColor\" text-anchor=\"middle\">cc</textPath>\n",
       "    </text>\n",
       "    <path class=\"displacy-arrowhead\" d=\"M4090.0,379.0 L4098.0,367.0 4082.0,367.0\" fill=\"currentColor\"/>\n",
       "</g>\n",
       "\n",
       "<g class=\"displacy-arrow\">\n",
       "    <path class=\"displacy-arc\" id=\"arrow-546-0-23\" stroke-width=\"2px\" d=\"M4270,377.0 C4270,227.0 4535.0,227.0 4535.0,377.0\" fill=\"none\" stroke=\"currentColor\"/>\n",
       "    <text dy=\"1.25em\" style=\"font-size: 0.8em; letter-spacing: 1px\">\n",
       "        <textPath xlink:href=\"#arrow-546-0-23\" class=\"displacy-label\" startOffset=\"50%\" fill=\"currentColor\" text-anchor=\"middle\">quantmod</textPath>\n",
       "    </text>\n",
       "    <path class=\"displacy-arrowhead\" d=\"M4270,379.0 L4262,367.0 4278,367.0\" fill=\"currentColor\"/>\n",
       "</g>\n",
       "\n",
       "<g class=\"displacy-arrow\">\n",
       "    <path class=\"displacy-arc\" id=\"arrow-546-0-24\" stroke-width=\"2px\" d=\"M4420,377.0 C4420,302.0 4530.0,302.0 4530.0,377.0\" fill=\"none\" stroke=\"currentColor\"/>\n",
       "    <text dy=\"1.25em\" style=\"font-size: 0.8em; letter-spacing: 1px\">\n",
       "        <textPath xlink:href=\"#arrow-546-0-24\" class=\"displacy-label\" startOffset=\"50%\" fill=\"currentColor\" text-anchor=\"middle\">compound</textPath>\n",
       "    </text>\n",
       "    <path class=\"displacy-arrowhead\" d=\"M4420,379.0 L4412,367.0 4428,367.0\" fill=\"currentColor\"/>\n",
       "</g>\n",
       "\n",
       "<g class=\"displacy-arrow\">\n",
       "    <path class=\"displacy-arc\" id=\"arrow-546-0-25\" stroke-width=\"2px\" d=\"M3670,377.0 C3670,2.0 4550.0,2.0 4550.0,377.0\" fill=\"none\" stroke=\"currentColor\"/>\n",
       "    <text dy=\"1.25em\" style=\"font-size: 0.8em; letter-spacing: 1px\">\n",
       "        <textPath xlink:href=\"#arrow-546-0-25\" class=\"displacy-label\" startOffset=\"50%\" fill=\"currentColor\" text-anchor=\"middle\">conj</textPath>\n",
       "    </text>\n",
       "    <path class=\"displacy-arrowhead\" d=\"M4550.0,379.0 L4558.0,367.0 4542.0,367.0\" fill=\"currentColor\"/>\n",
       "</g>\n",
       "\n",
       "<g class=\"displacy-arrow\">\n",
       "    <path class=\"displacy-arc\" id=\"arrow-546-0-26\" stroke-width=\"2px\" d=\"M4570,377.0 C4570,302.0 4680.0,302.0 4680.0,377.0\" fill=\"none\" stroke=\"currentColor\"/>\n",
       "    <text dy=\"1.25em\" style=\"font-size: 0.8em; letter-spacing: 1px\">\n",
       "        <textPath xlink:href=\"#arrow-546-0-26\" class=\"displacy-label\" startOffset=\"50%\" fill=\"currentColor\" text-anchor=\"middle\">prep</textPath>\n",
       "    </text>\n",
       "    <path class=\"displacy-arrowhead\" d=\"M4680.0,379.0 L4688.0,367.0 4672.0,367.0\" fill=\"currentColor\"/>\n",
       "</g>\n",
       "\n",
       "<g class=\"displacy-arrow\">\n",
       "    <path class=\"displacy-arc\" id=\"arrow-546-0-27\" stroke-width=\"2px\" d=\"M4720,377.0 C4720,302.0 4830.0,302.0 4830.0,377.0\" fill=\"none\" stroke=\"currentColor\"/>\n",
       "    <text dy=\"1.25em\" style=\"font-size: 0.8em; letter-spacing: 1px\">\n",
       "        <textPath xlink:href=\"#arrow-546-0-27\" class=\"displacy-label\" startOffset=\"50%\" fill=\"currentColor\" text-anchor=\"middle\">pobj</textPath>\n",
       "    </text>\n",
       "    <path class=\"displacy-arrowhead\" d=\"M4830.0,379.0 L4838.0,367.0 4822.0,367.0\" fill=\"currentColor\"/>\n",
       "</g>\n",
       "</svg>"
      ],
      "text/plain": [
       "<IPython.core.display.HTML object>"
      ]
     },
     "metadata": {},
     "output_type": "display_data"
    }
   ],
   "source": [
    "displacy.render(doc2, jupyter=True, options={'distance':150})"
   ]
  },
  {
   "cell_type": "code",
   "execution_count": 29,
   "metadata": {},
   "outputs": [
    {
     "data": {
      "text/html": [
       "<div class=\"entities\" style=\"line-height: 2.5\">Yay! We're going to \n",
       "<mark class=\"entity\" style=\"background: #7aecec; padding: 0.45em 0.6em; margin: 0 0.25em; line-height: 1; border-radius: 0.35em; box-decoration-break: clone; -webkit-box-decoration-break: clone\">\n",
       "    Disneyland L.A.\n",
       "    <span style=\"font-size: 0.8em; font-weight: bold; line-height: 1; border-radius: 0.35em; text-transform: uppercase; vertical-align: middle; margin-left: 0.5rem\">ORG</span>\n",
       "</mark>\n",
       "!! This is an awesome opportunity. Email me as \n",
       "<mark class=\"entity\" style=\"background: #bfe1d9; padding: 0.45em 0.6em; margin: 0 0.25em; line-height: 1; border-radius: 0.35em; box-decoration-break: clone; -webkit-box-decoration-break: clone\">\n",
       "    today\n",
       "    <span style=\"font-size: 0.8em; font-weight: bold; line-height: 1; border-radius: 0.35em; text-transform: uppercase; vertical-align: middle; margin-left: 0.5rem\">DATE</span>\n",
       "</mark>\n",
       " \n",
       "<mark class=\"entity\" style=\"background: #c887fb; padding: 0.45em 0.6em; margin: 0 0.25em; line-height: 1; border-radius: 0.35em; box-decoration-break: clone; -webkit-box-decoration-break: clone\">\n",
       "    rpoe!poe@gmail.com\n",
       "    <span style=\"font-size: 0.8em; font-weight: bold; line-height: 1; border-radius: 0.35em; text-transform: uppercase; vertical-align: middle; margin-left: 0.5rem\">NORP</span>\n",
       "</mark>\n",
       "! Or find me on \n",
       "<mark class=\"entity\" style=\"background: #7aecec; padding: 0.45em 0.6em; margin: 0 0.25em; line-height: 1; border-radius: 0.35em; box-decoration-break: clone; -webkit-box-decoration-break: clone\">\n",
       "    www.rpoe.com.Tickets\n",
       "    <span style=\"font-size: 0.8em; font-weight: bold; line-height: 1; border-radius: 0.35em; text-transform: uppercase; vertical-align: middle; margin-left: 0.5rem\">ORG</span>\n",
       "</mark>\n",
       " cost $\n",
       "<mark class=\"entity\" style=\"background: #e4e7d2; padding: 0.45em 0.6em; margin: 0 0.25em; line-height: 1; border-radius: 0.35em; box-decoration-break: clone; -webkit-box-decoration-break: clone\">\n",
       "    300\n",
       "    <span style=\"font-size: 0.8em; font-weight: bold; line-height: 1; border-radius: 0.35em; text-transform: uppercase; vertical-align: middle; margin-left: 0.5rem\">MONEY</span>\n",
       "</mark>\n",
       " per head or \n",
       "<mark class=\"entity\" style=\"background: #e4e7d2; padding: 0.45em 0.6em; margin: 0 0.25em; line-height: 1; border-radius: 0.35em; box-decoration-break: clone; -webkit-box-decoration-break: clone\">\n",
       "    $2 thousand\n",
       "    <span style=\"font-size: 0.8em; font-weight: bold; line-height: 1; border-radius: 0.35em; text-transform: uppercase; vertical-align: middle; margin-left: 0.5rem\">MONEY</span>\n",
       "</mark>\n",
       " per family.</div>"
      ],
      "text/plain": [
       "<IPython.core.display.HTML object>"
      ]
     },
     "metadata": {},
     "output_type": "display_data"
    }
   ],
   "source": [
    "displacy.render(doc2, style='ent', jupyter=True) #missed TODAY as date"
   ]
  },
  {
   "cell_type": "code",
   "execution_count": 32,
   "metadata": {},
   "outputs": [],
   "source": [
    "# Stemming\n",
    "# Porter stemmer 1980s, various rules and rule ordering \n",
    "# Snowball is another language for stemming \n",
    "\n",
    "import nltk\n",
    "from nltk.stem.porter import PorterStemmer\n",
    "p_stemmer = PorterStemmer()"
   ]
  },
  {
   "cell_type": "code",
   "execution_count": 44,
   "metadata": {},
   "outputs": [],
   "source": [
    "words = ['go', 'goes', 'went', 'going', 'goer', 'gone', 'gophers', \n",
    "         'easily', 'quickly', 'quuuickly']"
   ]
  },
  {
   "cell_type": "code",
   "execution_count": 45,
   "metadata": {},
   "outputs": [
    {
     "name": "stdout",
     "output_type": "stream",
     "text": [
      "go---->go\n",
      "goes---->goe\n",
      "went---->went\n",
      "going---->go\n",
      "goer---->goer\n",
      "gone---->gone\n",
      "gophers---->gopher\n",
      "easily---->easili\n",
      "quickly---->quickli\n",
      "quuuickly---->quuuickli\n"
     ]
    }
   ],
   "source": [
    "for word in words:\n",
    "    print(word + '---->' + p_stemmer.stem(word))"
   ]
  },
  {
   "cell_type": "code",
   "execution_count": 46,
   "metadata": {},
   "outputs": [],
   "source": [
    "# snowball \n",
    "\n",
    "from nltk.stem.snowball import SnowballStemmer\n",
    "s_stemmer = SnowballStemmer(language='english')\n",
    "\n",
    "#arabic danish dutch english finnish french german hungarian italian norwegian \n",
    "#portuguese romanian russian spanish swedish"
   ]
  },
  {
   "cell_type": "code",
   "execution_count": 47,
   "metadata": {},
   "outputs": [
    {
     "name": "stdout",
     "output_type": "stream",
     "text": [
      "go ----> go\n",
      "goes ----> goe\n",
      "went ----> went\n",
      "going ----> go\n",
      "goer ----> goer\n",
      "gone ----> gone\n",
      "gophers ----> gopher\n",
      "easily ----> easili\n",
      "quickly ----> quick\n",
      "quuuickly ----> quuuick\n"
     ]
    }
   ],
   "source": [
    "for word in words: \n",
    "    print(word + ' ----> ' + s_stemmer.stem(word))"
   ]
  },
  {
   "cell_type": "code",
   "execution_count": 49,
   "metadata": {},
   "outputs": [],
   "source": [
    "# Lemmatization - stemming + morphological analysis\n",
    "# more informative - spacy has only lemmatization, also looks at POS\n",
    "\n",
    "# Use spacy\n",
    "doc3 = nlp(u'get going for going is good and I am a goer who have gone many lengths \\\n",
    "for go goes gone gooone easily, quickly and faster than anyone.')\n"
   ]
  },
  {
   "cell_type": "code",
   "execution_count": 52,
   "metadata": {},
   "outputs": [
    {
     "name": "stdout",
     "output_type": "stream",
     "text": [
      "get \t VERB \t 2013399242189103424 \t get\n",
      "going \t VERB \t 8004577259940138793 \t go\n",
      "for \t ADP \t 16037325823156266367 \t for\n",
      "going \t VERB \t 8004577259940138793 \t go\n",
      "is \t VERB \t 10382539506755952630 \t be\n",
      "good \t ADJ \t 5711639017775284443 \t good\n",
      "and \t CCONJ \t 2283656566040971221 \t and\n",
      "I \t PRON \t 561228191312463089 \t -PRON-\n",
      "am \t VERB \t 10382539506755952630 \t be\n",
      "a \t DET \t 11901859001352538922 \t a\n",
      "goer \t NOUN \t 14292368617582274880 \t goer\n",
      "who \t NOUN \t 3876862883474502309 \t who\n",
      "have \t VERB \t 14692702688101715474 \t have\n",
      "gone \t VERB \t 8004577259940138793 \t go\n",
      "many \t ADJ \t 9720044723474553187 \t many\n",
      "lengths \t NOUN \t 493173492801391902 \t length\n",
      "for \t ADP \t 16037325823156266367 \t for\n",
      "go \t NOUN \t 8004577259940138793 \t go\n",
      "goes \t VERB \t 8004577259940138793 \t go\n",
      "gone \t VERB \t 8004577259940138793 \t go\n",
      "gooone \t NOUN \t 3993162000191412813 \t gooone\n",
      "easily \t ADV \t 8007658219579238015 \t easily\n",
      ", \t PUNCT \t 2593208677638477497 \t ,\n",
      "quickly \t ADV \t 7007696535375059571 \t quickly\n",
      "and \t CCONJ \t 2283656566040971221 \t and\n",
      "faster \t ADV \t 12462445139066697090 \t faster\n",
      "than \t ADP \t 10794458019344880855 \t than\n",
      "anyone \t NOUN \t 444920330522528470 \t anyone\n",
      ". \t PUNCT \t 12646065887601541794 \t .\n"
     ]
    }
   ],
   "source": [
    "for token in doc3:\n",
    "    print(token.text, '\\t', token.pos_, '\\t', token.lemma, '\\t', token.lemma_)\n",
    "    \n",
    "    # the number is an individual hash / number pointing to unique lemmas in the library "
   ]
  },
  {
   "cell_type": "code",
   "execution_count": 57,
   "metadata": {},
   "outputs": [],
   "source": [
    "def show_lemmas(text):\n",
    "    for token in text: \n",
    "        print(f'{token.text:{12}} {token.pos_:{6}} {token.lemma:{22}} {token.lemma_:{10}}')"
   ]
  },
  {
   "cell_type": "code",
   "execution_count": 58,
   "metadata": {},
   "outputs": [
    {
     "name": "stdout",
     "output_type": "stream",
     "text": [
      "get          VERB      2013399242189103424 get       \n",
      "going        VERB      8004577259940138793 go        \n",
      "for          ADP      16037325823156266367 for       \n",
      "going        VERB      8004577259940138793 go        \n",
      "is           VERB     10382539506755952630 be        \n",
      "good         ADJ       5711639017775284443 good      \n",
      "and          CCONJ     2283656566040971221 and       \n",
      "I            PRON       561228191312463089 -PRON-    \n",
      "am           VERB     10382539506755952630 be        \n",
      "a            DET      11901859001352538922 a         \n",
      "goer         NOUN     14292368617582274880 goer      \n",
      "who          NOUN      3876862883474502309 who       \n",
      "have         VERB     14692702688101715474 have      \n",
      "gone         VERB      8004577259940138793 go        \n",
      "many         ADJ       9720044723474553187 many      \n",
      "lengths      NOUN       493173492801391902 length    \n",
      "for          ADP      16037325823156266367 for       \n",
      "go           NOUN      8004577259940138793 go        \n",
      "goes         VERB      8004577259940138793 go        \n",
      "gone         VERB      8004577259940138793 go        \n",
      "gooone       NOUN      3993162000191412813 gooone    \n",
      "easily       ADV       8007658219579238015 easily    \n",
      ",            PUNCT     2593208677638477497 ,         \n",
      "quickly      ADV       7007696535375059571 quickly   \n",
      "and          CCONJ     2283656566040971221 and       \n",
      "faster       ADV      12462445139066697090 faster    \n",
      "than         ADP      10794458019344880855 than      \n",
      "anyone       NOUN       444920330522528470 anyone    \n",
      ".            PUNCT    12646065887601541794 .         \n"
     ]
    }
   ],
   "source": [
    "show_lemmas(doc3)"
   ]
  },
  {
   "cell_type": "code",
   "execution_count": 60,
   "metadata": {},
   "outputs": [
    {
     "name": "stdout",
     "output_type": "stream",
     "text": [
      "{'many', 'front', 'herself', 'however', 'three', 'who', 'neither', 'one', 'either', 'everywhere', 'does', 'thus', 'top', 'again', 'only', 'all', 'while', 'twenty', 'elsewhere', 'herein', 'nor', 'anywhere', 'than', 'go', 'through', 'whereby', 'made', 'an', 'hence', 'latter', 'nine', 'never', 'whole', 'towards', 'back', 'two', 'after', 'beyond', 'alone', 'might', 'much', 'him', 'became', 'both', 'due', 'noone', 'now', 'first', 'where', 'this', 'always', 'have', 'part', 'too', 'are', 'she', 'along', 'done', 'our', 'although', 'another', 'anyhow', 'eight', 'own', 'on', 'mostly', 'fifty', 'whereupon', 'thereby', 'make', 'move', 'or', 'his', 'how', 'give', 'across', 'meanwhile', 'against', 'but', 'enough', 'really', 'the', 'there', 'why', 'during', 'less', 'whereafter', 'up', 'thence', 'doing', 'a', 'then', 'everyone', 'therefore', 'using', 'yourselves', 'fifteen', 'must', 'that', 'hereby', 'somehow', 'formerly', 'same', 'still', 'unless', 'down', 'various', 'whatever', 'else', 'sixty', 'between', 'even', 'with', 'at', 'several', 'ours', 'other', 'among', 'latterly', 'upon', 'could', 'say', 'whom', 'seems', 'each', 'off', 'toward', 'twelve', 'himself', 'whose', 'becomes', 'from', 'put', 'anyone', 'can', 'hers', 'eleven', 'ourselves', 'for', 'me', 'already', 'above', 'myself', 'thereupon', 'former', 'your', 'almost', 'until', 'he', 'without', 'onto', 'very', 'these', 'hundred', 'hereafter', 'before', 'nobody', 'ten', 'sometime', 'since', 'themselves', 'whither', 'when', 'you', 'somewhere', 'few', 'though', 'if', 'get', 'had', 'throughout', 'their', 'were', 'nothing', 're', 'six', 'someone', 'its', 'am', 'more', 'ca', 'none', 'regarding', 'to', 'out', 'we', 'i', 'of', 'perhaps', 'around', 'four', 'next', 'seeming', 'serious', 'us', 'about', 'seem', 'so', 'quite', 'may', 'side', 'besides', 'as', 'my', 'should', 'those', 'below', 'also', 'third', 'has', 'least', 'ever', 'afterwards', 'it', 'once', 'therein', 'well', 'been', 'just', 'per', 'itself', 'forty', 'name', 'in', 'mine', 'some', 'sometimes', 'seemed', 'please', 'bottom', 'behind', 'be', 'hereupon', 'yours', 'namely', 'empty', 'any', 'used', 'rather', 'whenever', 'under', 'further', 'others', 'see', 'something', 'they', 'most', 'whence', 'everything', 'indeed', 'nevertheless', 'whereas', 'whoever', 'and', 'often', 'over', 'her', 'by', 'amongst', 'is', 'will', 'being', 'not', 'would', 'take', 'call', 'amount', 'full', 'within', 'yet', 'last', 'thru', 'nowhere', 'together', 'anyway', 'beside', 'them', 'anything', 'do', 'here', 'via', 'which', 'except', 'what', 'five', 'did', 'wherever', 'every', 'such', 'no', 'become', 'thereafter', 'into', 'cannot', 'keep', 'otherwise', 'was', 'whether', 'show', 'because', 'becoming', 'moreover', 'beforehand', 'wherein', 'yourself'} 305\n"
     ]
    }
   ],
   "source": [
    "# Stop words \n",
    "\n",
    "# remove stop words and add your own \n",
    "\n",
    "print(nlp.Defaults.stop_words, len(nlp.Defaults.stop_words))  #returns a set {}, not a dictiornary"
   ]
  },
  {
   "cell_type": "code",
   "execution_count": 66,
   "metadata": {},
   "outputs": [
    {
     "data": {
      "text/plain": [
       "False"
      ]
     },
     "execution_count": 66,
     "metadata": {},
     "output_type": "execute_result"
    }
   ],
   "source": [
    "# find if 'is' is in vocab and check attribute if this is a stop\n",
    "\n",
    "nlp.vocab['is'].is_stop \n",
    "nlp.vocab['buy'].is_stop"
   ]
  },
  {
   "cell_type": "code",
   "execution_count": 67,
   "metadata": {},
   "outputs": [],
   "source": [
    "# Adding stop words to the data set \n",
    "\n",
    "nlp.Defaults.stop_words.add('btw')"
   ]
  },
  {
   "cell_type": "code",
   "execution_count": 71,
   "metadata": {},
   "outputs": [
    {
     "data": {
      "text/plain": [
       "True"
      ]
     },
     "execution_count": 71,
     "metadata": {},
     "output_type": "execute_result"
    }
   ],
   "source": [
    "nlp.vocab['btw'].is_stop  # False \n",
    "\n",
    "# so add btw\n",
    "nlp.vocab['btw'].is_stop = True\n",
    "\n",
    "nlp.vocab['btw'].is_stop  # True \n",
    "\n",
    "# similarly for removing something set .is_stop = False "
   ]
  },
  {
   "cell_type": "code",
   "execution_count": 93,
   "metadata": {},
   "outputs": [],
   "source": [
    "# Vocabulary and Matching \n",
    "\n",
    "# Rule based matching - matcher - matches the rules and returns the list of matches\n",
    "# match text and annotation \n",
    "\n",
    "from spacy.matcher import Matcher\n",
    "matcher = Matcher(nlp.vocab) # matcher with specific nlp object \n",
    "\n",
    "pattern1 = [{'LOWER': 'solarpower'}] # attribute LOWER = lowercase form of the token text\n",
    "# matchers solarpower\n",
    "pattern2 = [{'LOWER': 'solar'}, {'IS_PUNCT': True}, {'LOWER': 'power'}]\n",
    "# matches solar-power\n",
    "pattern3 = [{'LOWER': 'solar'}, {'LOWER':'power'}]\n",
    "# matches solar power \n",
    "\n"
   ]
  },
  {
   "cell_type": "code",
   "execution_count": 94,
   "metadata": {},
   "outputs": [],
   "source": [
    "# add the patterns to the matcher\n",
    "\n",
    "matcher.add('SolarPower',None, pattern1, pattern2, pattern3)"
   ]
  },
  {
   "cell_type": "code",
   "execution_count": 95,
   "metadata": {},
   "outputs": [],
   "source": [
    "doc5 = nlp(u'The Solar Power grows as solarpower increases and Solar-Power is good. solar power too\\\n",
    "           sOlar pOWer SOlaR PoweR, solar--power, solar;power, solar...power, powersolar')"
   ]
  },
  {
   "cell_type": "code",
   "execution_count": 96,
   "metadata": {},
   "outputs": [],
   "source": [
    "found_matches = matcher(doc5) # matchid = string id and start and the stop on the tokens in the string"
   ]
  },
  {
   "cell_type": "code",
   "execution_count": 97,
   "metadata": {},
   "outputs": [
    {
     "name": "stdout",
     "output_type": "stream",
     "text": [
      "8656102463236116519 SolarPower 1 3 Solar Power\n",
      "8656102463236116519 SolarPower 5 6 solarpower\n",
      "8656102463236116519 SolarPower 8 11 Solar-Power\n",
      "8656102463236116519 SolarPower 14 16 solar power\n",
      "8656102463236116519 SolarPower 18 20 sOlar pOWer\n",
      "8656102463236116519 SolarPower 20 22 SOlaR PoweR\n",
      "8656102463236116519 SolarPower 23 26 solar--power\n",
      "8656102463236116519 SolarPower 29 32 solar...power\n"
     ]
    }
   ],
   "source": [
    "for match_id, start, end in found_matches:\n",
    "    string_id = nlp.vocab.strings[match_id]\n",
    "    span = doc5[start:end]\n",
    "    print(match_id, string_id, start, end, span.text)"
   ]
  },
  {
   "cell_type": "code",
   "execution_count": 98,
   "metadata": {},
   "outputs": [],
   "source": [
    "# remove a pattern \n",
    "\n",
    "matcher.remove('SolarPower')"
   ]
  },
  {
   "cell_type": "code",
   "execution_count": 99,
   "metadata": {},
   "outputs": [],
   "source": [
    "# making optional pattern rule with new pattern rules as we removed the previous \n",
    "\n",
    "# all relevant strings in upper and lowercase\n",
    "pattern1 = [{'LOWER':'solarpower'}]\n",
    "\n",
    "# with different punctuations in between \n",
    "pattern2 = [{'LOWER':'solar'}, {'IS_PUNCT':True,'OP':'*'},{'LOWER':'power'}]\n",
    "\n",
    "matcher.add('SolarPower', None, pattern1, pattern2)\n",
    "\n",
    "found_matches = matcher(doc5)"
   ]
  },
  {
   "cell_type": "code",
   "execution_count": 100,
   "metadata": {},
   "outputs": [
    {
     "data": {
      "text/plain": [
       "[(8656102463236116519, 1, 3),\n",
       " (8656102463236116519, 5, 6),\n",
       " (8656102463236116519, 8, 11),\n",
       " (8656102463236116519, 14, 16),\n",
       " (8656102463236116519, 18, 20),\n",
       " (8656102463236116519, 20, 22),\n",
       " (8656102463236116519, 23, 26),\n",
       " (8656102463236116519, 29, 32)]"
      ]
     },
     "execution_count": 100,
     "metadata": {},
     "output_type": "execute_result"
    }
   ],
   "source": [
    "found_matches"
   ]
  },
  {
   "cell_type": "code",
   "execution_count": 101,
   "metadata": {},
   "outputs": [
    {
     "name": "stdout",
     "output_type": "stream",
     "text": [
      "8656102463236116519 SolarPower 1 3 Solar Power\n",
      "8656102463236116519 SolarPower 5 6 solarpower\n",
      "8656102463236116519 SolarPower 8 11 Solar-Power\n",
      "8656102463236116519 SolarPower 14 16 solar power\n",
      "8656102463236116519 SolarPower 18 20 sOlar pOWer\n",
      "8656102463236116519 SolarPower 20 22 SOlaR PoweR\n",
      "8656102463236116519 SolarPower 23 26 solar--power\n",
      "8656102463236116519 SolarPower 29 32 solar...power\n"
     ]
    }
   ],
   "source": [
    "for match_id, start, end in found_matches:\n",
    "    string_id = nlp.vocab.strings[match_id]\n",
    "    span = doc5[start:end]\n",
    "    print(match_id, string_id, start, end, span.text)"
   ]
  },
  {
   "cell_type": "code",
   "execution_count": 103,
   "metadata": {},
   "outputs": [],
   "source": [
    "# Phrase matching and vocabulary \n",
    "\n",
    "# more efficient match on a terminology list - phrase matcher \n",
    "\n",
    "from spacy.matcher import PhraseMatcher\n",
    "p_matcher = PhraseMatcher(nlp.vocab)"
   ]
  },
  {
   "cell_type": "code",
   "execution_count": 104,
   "metadata": {},
   "outputs": [
    {
     "data": {
      "text/plain": [
       "'/Users/pbiswas/Documents/Portilla_NLP'"
      ]
     },
     "execution_count": 104,
     "metadata": {},
     "output_type": "execute_result"
    }
   ],
   "source": [
    "pwd"
   ]
  },
  {
   "cell_type": "code",
   "execution_count": 110,
   "metadata": {},
   "outputs": [],
   "source": [
    "with open('/Users/pbiswas/Documents/Portilla_NLP/UPDATED_NLP_COURSE/\\\n",
    "TextFiles/reaganomics.txt', encoding='utf-8', errors='ignore') as f:\n",
    "    doc6 = nlp(f.read())"
   ]
  },
  {
   "cell_type": "code",
   "execution_count": 111,
   "metadata": {},
   "outputs": [],
   "source": [
    "phrase_list = ['voodoo economics','supply-side economics', 'free-market economics']"
   ]
  },
  {
   "cell_type": "code",
   "execution_count": 112,
   "metadata": {},
   "outputs": [],
   "source": [
    "phrase_patterns = [nlp(text) for text in phrase_list]"
   ]
  },
  {
   "cell_type": "code",
   "execution_count": 116,
   "metadata": {},
   "outputs": [
    {
     "data": {
      "text/plain": [
       "spacy.tokens.doc.Doc"
      ]
     },
     "execution_count": 116,
     "metadata": {},
     "output_type": "execute_result"
    }
   ],
   "source": [
    "type(phrase_patterns[0])  # spacy doc"
   ]
  },
  {
   "cell_type": "code",
   "execution_count": 117,
   "metadata": {},
   "outputs": [],
   "source": [
    "p_matcher.add('EconMatcher', None, *phrase_patterns) \n",
    "# * Python insert keyword argument trick for insert each pattern argument \n"
   ]
  },
  {
   "cell_type": "code",
   "execution_count": 118,
   "metadata": {},
   "outputs": [],
   "source": [
    "found_matches = p_matcher(doc6)"
   ]
  },
  {
   "cell_type": "code",
   "execution_count": 119,
   "metadata": {},
   "outputs": [
    {
     "data": {
      "text/plain": [
       "[(3680293220734633682, 41, 45),\n",
       " (3680293220734633682, 54, 56),\n",
       " (3680293220734633682, 61, 65),\n",
       " (3680293220734633682, 673, 677)]"
      ]
     },
     "execution_count": 119,
     "metadata": {},
     "output_type": "execute_result"
    }
   ],
   "source": [
    "found_matches"
   ]
  },
  {
   "cell_type": "code",
   "execution_count": 125,
   "metadata": {},
   "outputs": [
    {
     "name": "stdout",
     "output_type": "stream",
     "text": [
      "3680293220734633682 EconMatcher 41 45 supply-side economics\n",
      "3680293220734633682 EconMatcher 54 56 voodoo economics\n",
      "3680293220734633682 EconMatcher 61 65 free-market economics\n",
      "3680293220734633682 EconMatcher 673 677 supply-side economics\n"
     ]
    }
   ],
   "source": [
    "for match_id, start, end in found_matches:\n",
    "    string_id = nlp.vocab.strings[match_id] # get string representation\n",
    "    span = doc6[start:end]  # get the matched span \n",
    "    #span = doc6[start:end+20]  # get the matched span and following words \n",
    "    print(match_id, string_id, start, end, span.text)"
   ]
  },
  {
   "cell_type": "code",
   "execution_count": null,
   "metadata": {},
   "outputs": [],
   "source": []
  }
 ],
 "metadata": {
  "kernelspec": {
   "display_name": "Python 3",
   "language": "python",
   "name": "python3"
  },
  "language_info": {
   "codemirror_mode": {
    "name": "ipython",
    "version": 3
   },
   "file_extension": ".py",
   "mimetype": "text/x-python",
   "name": "python",
   "nbconvert_exporter": "python",
   "pygments_lexer": "ipython3",
   "version": "3.6.5"
  }
 },
 "nbformat": 4,
 "nbformat_minor": 2
}
